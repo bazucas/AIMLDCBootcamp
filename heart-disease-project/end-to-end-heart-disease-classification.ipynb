{
 "cells": [
  {
   "cell_type": "markdown",
   "id": "1988b74f-352a-4f24-918d-38de82f38410",
   "metadata": {},
   "source": [
    "# Predicting heart disease using machine learning\r\n",
    "\r\n",
    "This notebook looks into using various Python-based machine learning and data science libraries in an attempt to build a machine learning model capable of predicting whether or not someone has heart disease based on their medical attributes.\r\n",
    "\r\n",
    "We're going to take the following approach:\r\n",
    "\r\n",
    "1. Problem definition\r\n",
    "2. Data\r\n",
    "3. Evaluation\r\n",
    "4. Features\r\n",
    "5. Modelling\r\n",
    "6. Experimentation\r\n",
    "\r\n",
    "## 1. Problem Definition\r\n",
    "\r\n",
    "In a statement,\r\n",
    "\r\n",
    "Given clinical parameters about a patient, can we predict whether or not they have heart disease?\r\n",
    "\r\n",
    "## 2. Data\r\n",
    "\r\n",
    "The original data came from the Cleavland data from the UCI Machine Learning Repository.\r\n",
    "<https://archive.ics.uci.edu/ml/datasets/heart+Disease>\r\n",
    "\r\n",
    "There is also a version of it available on Kaggle: <https://www.kaggle.com/datasets/sumaiyatasneem/heart-disease-classification-dataset>\r\n",
    "\r\n",
    "## 3. Evaluation\r\n",
    "\r\n",
    "If we can reach 95% accuracy at predicting whether or not a patient has heart disease during the proof of concept, we'll pursue the project.\r\n",
    "\r\n",
    "## 4. Features\r\n",
    "\r\n",
    "This is where you'll get different information about each of the features in your data. You can do this via doing your own research (such as looking at the links above) or by talking to a subject matter expert (someone**o knows about the data**set).\r\n",
    "\n",
    "## Create data dictionary\n",
    "\n",
    "1. **age** - age in years\n",
    "2. **sex** - (1 = male; 0 = female)\n",
    "3. **cp** - chest pain type\n",
    "    - 0: Typical angina: chest pain related decrease blood supply to the heart\n",
    "    - 1: Atypical angina: chest pain not related to heart\n",
    "    - 2: Non-anginal pain: typically esophageal spasms (non heart related)\n",
    "    - 3: Asymptomatic: chest pain not showing signs of disease\n",
    "4. **trestbps** - resting blood pressure (in mm Hg on admission to the hospital) anything above 130-140 is typically cause for concern\n",
    "5. **chol** - serum cholestoral in mg/dl\n",
    "    - serum = LDL + HDL + .2 * triglycerides\n",
    "    - above 200 is cause for concern\n",
    "6. **fbs** - (fasting blood sugar > 120 mg/dl) (1 = true; 0 = false)\n",
    "    - '>126' mg/dL signals diabetes\n",
    "7. **restecg** - resting electrocardiographic results\n",
    "    - 0: Nothing to note\n",
    "    - 1: ST-T Wave abnormality\n",
    "        - can range from mild symptoms to severe problems\n",
    "        - signals non-normal heart beat\n",
    "    - 2: Possible or definite left ventricular hypertrophy\n",
    "        - Enlarged heart’s main pumping chamber\n",
    "8. **thalach** - maximum heart rate achieved\n",
    "9. **exang** - exercise induced angina (1 = yes; 0 = no)\n",
    "10. **oldpeak** - ST depression induced by exercise relative to rest looks at stress of heart during exercise unhealthy heart will stress more\n",
    "11. **slope** - the slope of the peak exercise ST segment\n",
    "    - 0: Upsloping: better heart rate with exercise (uncommon)\n",
    "    - 1: Flatsloping: minimal change (typical healthy heart)\n",
    "    - 2: Downsloping: signs of unhealthy heart\n",
    "12. **ca** - number of major vessels (0-3) colored by flourosopy\n",
    "    - colored vessel means the doctor can see the blood passing through\n",
    "    - the more blood movement the better (no clots)\n",
    "13. **thal** - thalium stress result\n",
    "    - 1,3: normal\n",
    "    - 6: fixed defect: used to be defect but ok now\n",
    "    - 7: reversable defect: no proper blood movement when exercising\n",
    "14. **target** - have disease or not (1=yes, 0=no) (= the predicted attribute)s, 0=no) (= the predicted attribute)"
   ]
  },
  {
   "cell_type": "markdown",
   "id": "5acf1c82-c57a-44d8-b6a9-a0e10df4e1c9",
   "metadata": {},
   "source": [
    "## Preparing the tools\n",
    "\n",
    "We're going to use pandas, matplotlib, numpy for data analysis and manipulation."
   ]
  },
  {
   "cell_type": "code",
   "execution_count": null,
   "id": "d2590076-3637-49e6-b144-205cd3c4ff57",
   "metadata": {},
   "outputs": [],
   "source": [
    "# Import all the tools we need\n",
    "\n",
    "# Regular EDA (exploratory data analysis) and plotting libraries\n",
    "import numpy as np\n",
    "import pandas as pd\n",
    "import matplotlib.pyplot as plt\n",
    "import seaborn as sns\n",
    "\n",
    "# we want our plots to appear inside the notebook\n",
    "%matplotlib inline \n",
    "\n",
    "# Models from Scikit-Learn\n",
    "from sklearn.linear_model import LogisticRegression\n",
    "from sklearn.neighbors import KNeighborsClassifier\n",
    "from sklearn.ensemble import RandomForestClassifier\n",
    "\n",
    "# Model Evaluations\n",
    "from sklearn.model_selection import train_test_split, cross_val_score\n",
    "from sklearn.model_selection import RandomizedSearchCV, GridSearchCV\n",
    "from sklearn.metrics import confusion_matrix, classification_report\n",
    "from sklearn.metrics import precision_score, recall_score, f1_score\n",
    "from sklearn.metrics import  RocCurveDisplay"
   ]
  },
  {
   "cell_type": "markdown",
   "id": "72ef8b4f-c9c9-4815-8db1-f0bbf5ebecd2",
   "metadata": {},
   "source": [
    "## Load data"
   ]
  },
  {
   "cell_type": "code",
   "execution_count": null,
   "id": "b57f0fd2-ebb2-4b66-a266-1c5693736e87",
   "metadata": {},
   "outputs": [],
   "source": [
    "df = pd.read_csv(\"heart-disease.csv\")\n",
    "df.shape # (rows, columns)"
   ]
  },
  {
   "cell_type": "markdown",
   "id": "85988d31-2823-4665-a2ec-264304f4c68f",
   "metadata": {},
   "source": [
    "## Data Exploration (exploratory data analysis or EDA)\n",
    "\n",
    "The goal here is to find out more about the data and become a subject matter export on the dataset you're working with.\n",
    "\n",
    "1. What question(s) are you trying to solve?\n",
    "2. What kind of data do we have and how do we treat different types?\n",
    "3. What's missing from the data and how do you dea with it?\n",
    "4. Where are the outliers and why should you care about them?\n",
    "5. How can you add, change or remove features to get more out of your data?"
   ]
  },
  {
   "cell_type": "code",
   "execution_count": null,
   "id": "e5d56da7-90c0-4d13-8abd-c7bd7a15436a",
   "metadata": {},
   "outputs": [],
   "source": [
    "df.head()"
   ]
  },
  {
   "cell_type": "code",
   "execution_count": null,
   "id": "42cc1189-3549-4218-a112-35a41a97c25b",
   "metadata": {},
   "outputs": [],
   "source": [
    "df.tail()"
   ]
  },
  {
   "cell_type": "code",
   "execution_count": null,
   "id": "a1662fad-94ff-404f-bf7b-e907485d79c3",
   "metadata": {},
   "outputs": [],
   "source": [
    "# Let's find out how many of each class there\n",
    "df[\"target\"].value_counts()"
   ]
  },
  {
   "cell_type": "code",
   "execution_count": null,
   "id": "00b760cc-d70c-45bc-8975-ab2f9fd72285",
   "metadata": {},
   "outputs": [],
   "source": [
    "df[\"target\"].value_counts().plot(kind=\"bar\", color=[\"salmon\", \"lightblue\"]);"
   ]
  },
  {
   "cell_type": "code",
   "execution_count": null,
   "id": "7a76d9dc-6602-40dd-9e01-84f79d9338fc",
   "metadata": {},
   "outputs": [],
   "source": [
    "df.info()"
   ]
  },
  {
   "cell_type": "code",
   "execution_count": null,
   "id": "59a96bff-b47b-454b-988b-0e9ff140e9eb",
   "metadata": {},
   "outputs": [],
   "source": [
    "# Are there any missing values?\n",
    "df.isna().sum()"
   ]
  },
  {
   "cell_type": "code",
   "execution_count": null,
   "id": "d2125b8a-f302-4c20-a4af-c71fbb04ff79",
   "metadata": {},
   "outputs": [],
   "source": [
    "df.describe()"
   ]
  },
  {
   "cell_type": "markdown",
   "id": "1e4a8f36-c4bd-49c1-ba20-4a5bb3d18d62",
   "metadata": {},
   "source": [
    "## Heart Disease Frequency according to Sex"
   ]
  },
  {
   "cell_type": "code",
   "execution_count": null,
   "id": "1805d308-ed34-4ad3-9a78-492976e8c65d",
   "metadata": {},
   "outputs": [],
   "source": [
    "df.sex.value_counts()"
   ]
  },
  {
   "cell_type": "code",
   "execution_count": null,
   "id": "50489d07-1714-4085-94ee-bf894d613103",
   "metadata": {},
   "outputs": [],
   "source": [
    "# Compare target column with sex column\n",
    "pd.crosstab(df.target, df.sex)"
   ]
  },
  {
   "cell_type": "code",
   "execution_count": null,
   "id": "916b0cf5-60a2-4097-b897-ece7bb395bce",
   "metadata": {},
   "outputs": [],
   "source": [
    "# Create a plot of crosstab\n",
    "pd.crosstab(df.target, df.sex).plot(kind=\"bar\",\n",
    "                                    figsize=(10, 6),\n",
    "                                    color=[\"salmon\", \"lightblue\"])\n",
    "\n",
    "plt.title(\"Heart Disease Frequency for Sex\")\n",
    "plt.xlabel(\"0 = No Diesease, 1 = Disease\")\n",
    "plt.ylabel(\"Amount\")\n",
    "plt.legend([\"Female\", \"Male\"]);\n",
    "plt.xticks(rotation=0);"
   ]
  },
  {
   "cell_type": "markdown",
   "id": "599c361f-ba48-404c-a4bd-e716227885a7",
   "metadata": {},
   "source": [
    "## Age vs. Max Heart Rate for Heart Disease"
   ]
  },
  {
   "cell_type": "code",
   "execution_count": null,
   "id": "a652a62e-8cee-4b12-bd83-ad7e6073b7dd",
   "metadata": {},
   "outputs": [],
   "source": [
    "# Create another figure\n",
    "plt.figure(figsize=(10, 6))\n",
    "\n",
    "# Scatter with postivie examples\n",
    "plt.scatter(df.age[df.target==1],\n",
    "            df.thalach[df.target==1],\n",
    "            c=\"salmon\")\n",
    "\n",
    "# Scatter with negative examples\n",
    "plt.scatter(df.age[df.target==0],\n",
    "            df.thalach[df.target==0],\n",
    "            c=\"lightblue\")\n",
    "\n",
    "# Add some helpful info\n",
    "plt.title(\"Heart Disease in function of Age and Max Heart Rate\")\n",
    "plt.xlabel(\"Age\")\n",
    "plt.ylabel(\"Max Heart Rate\")\n",
    "plt.legend([\"Disease\", \"No Disease\"]);"
   ]
  },
  {
   "cell_type": "code",
   "execution_count": null,
   "id": "fe3304ba-6bae-4283-bbba-cab23c092962",
   "metadata": {},
   "outputs": [],
   "source": [
    "# Check the distribution of the age column with a histogram\n",
    "df.age.plot.hist();"
   ]
  },
  {
   "cell_type": "code",
   "execution_count": null,
   "id": "366e68b1-b46e-4fca-9b79-0a2dd19f507a",
   "metadata": {},
   "outputs": [],
   "source": []
  }
 ],
 "metadata": {
  "kernelspec": {
   "display_name": "Python 3 (ipykernel)",
   "language": "python",
   "name": "python3"
  },
  "language_info": {
   "codemirror_mode": {
    "name": "ipython",
    "version": 3
   },
   "file_extension": ".py",
   "mimetype": "text/x-python",
   "name": "python",
   "nbconvert_exporter": "python",
   "pygments_lexer": "ipython3",
   "version": "3.12.4"
  }
 },
 "nbformat": 4,
 "nbformat_minor": 5
}
